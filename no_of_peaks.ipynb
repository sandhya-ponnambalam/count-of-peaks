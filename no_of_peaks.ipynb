{
 "cells": [
  {
   "cell_type": "code",
   "execution_count": null,
   "id": "8e39c1b2",
   "metadata": {},
   "outputs": [],
   "source": [
    "# Importing package dependencies and storing them as shortcuts \"pd\" and \"np\"\n",
    "import pandas as pd\n",
    "import numpy as np"
   ]
  },
  {
   "cell_type": "code",
   "execution_count": null,
   "id": "9052b42f",
   "metadata": {},
   "outputs": [],
   "source": [
    "# Importing Dataframe from local with path\n",
    "dataframe = pd.read_excel('C:\\\\Users\\\\sakth\\\\Downloads\\\\D149_raw.xlsx')"
   ]
  },
  {
   "cell_type": "code",
   "execution_count": null,
   "id": "6c0be1ef",
   "metadata": {},
   "outputs": [],
   "source": [
    "# standardizing data by dividing all values by the first value in respective column\n",
    "for col in dataframe.columns.values.tolist():\n",
    "    dataframe[col] = dataframe[col] / dataframe[col].loc[0]"
   ]
  },
  {
   "cell_type": "code",
   "execution_count": null,
   "id": "f4e16db1",
   "metadata": {},
   "outputs": [],
   "source": [
    "# Dropping unnecessary additional index column (the boldened,unlabeled index column below is the default one)\n",
    "dataframe.drop(columns=dataframe.columns[0], axis=0, inplace=True)"
   ]
  },
  {
   "cell_type": "code",
   "execution_count": null,
   "id": "e8e30545",
   "metadata": {},
   "outputs": [],
   "source": [
    "# Cell to be used if there are unwanted columns in dataframe to be removed before analysis\n",
    "# Otherwise, col_names variable will not be used\n",
    "# col_names_initial = dataframe.columns.values.tolist()\n",
    "# col_names_remove = [\"Row #\",\"Timestamp\"] # example row names to be removed\n",
    "# col_names = list(set(col_names_initial) - set(col_names_remove))\n",
    "\n",
    "# If using this cell, replace col_names_initial with col_names below"
   ]
  },
  {
   "cell_type": "code",
   "execution_count": null,
   "id": "d281ee52",
   "metadata": {},
   "outputs": [],
   "source": [
    "# Ignore performance related warnings asking to concatenate all columns\n",
    "from warnings import simplefilter\n",
    "simplefilter(action=\"ignore\", category=pd.errors.PerformanceWarning)\n",
    "\n",
    "# Extract column names as a list \n",
    "col_names_initial = dataframe.columns.values.tolist()\n",
    "\n",
    "# Create a new Dataframe to store number of peaks\n",
    "peaks_df = pd.DataFrame(columns = col_names_initial)\n",
    "\n",
    "# The code within the indent of this for loop, will run for all columns in Dataframe\n",
    "for col_name in col_names_initial:\n",
    "    col_bwd_diff = 'd'+col_name # create new column - backward difference\n",
    "    col_fwd_diff = 'd2'+col_name # create new column - forward difference\n",
    "    peaks_col = 'peaks'+col_name # create new column - will store value 1.0, if point is a peak\n",
    "    \n",
    "#   For backward difference column, minus value with that of PREVIOUS row/second and vice versa\n",
    "    dataframe[col_fwd_diff] = dataframe[col_name] - dataframe[col_name].shift(-1) \n",
    "    dataframe[col_bwd_diff] = dataframe[col_name] - dataframe[col_name].shift(1)\n",
    "    \n",
    "#   Convert all numbers to purely pandas numerics (this ensures they are not misinterpreted as strings)\n",
    "    dataframe[col_bwd_diff] = pd.to_numeric(dataframe[col_bwd_diff])\n",
    "    dataframe[col_fwd_diff] = pd.to_numeric(dataframe[col_fwd_diff])\n",
    "    \n",
    "#   using a second dataframe just for calculation of threshold, using only first 450 rows (change values accordingly)\n",
    "    dataframe2 = dataframe.head(450)\n",
    "    mean_calculated = dataframe2[col_bwd_diff].iloc[350:450].mean() # mean\n",
    "    std_dev_calculated = dataframe2[col_bwd_diff].iloc[350:450].std() # standard deviation\n",
    "    threshold_calculated = 4*std_dev_calculated + mean_calculated # threshold, for each column\n",
    "    \n",
    "    dataframe[col_name] = pd.to_numeric(dataframe[col_name])\n",
    "    dataframe[peaks_col] = np.where(\n",
    "        (\n",
    "            (dataframe[col_bwd_diff] > threshold_calculated) &\n",
    "            (\n",
    "                (dataframe[col_bwd_diff].shift(10) < threshold_calculated)&\n",
    "                (dataframe[col_bwd_diff].shift(-10) < threshold_calculated) &\n",
    "                (dataframe[col_bwd_diff].shift(-1) < dataframe[col_bwd_diff])&\n",
    "                (dataframe[col_bwd_diff].shift(1) < dataframe[col_bwd_diff])\n",
    "            )\n",
    "        ),1, 0)\n",
    "    dataframe = dataframe.drop(columns=[col_bwd_diff,col_fwd_diff])\n",
    "    if dataframe[dataframe[peaks_col] == 1].size > 0:\n",
    "        peaks_df.loc[0,col_name] = dataframe[peaks_col].value_counts()[1.0]\n",
    "    else:\n",
    "        pass\n"
   ]
  },
  {
   "cell_type": "code",
   "execution_count": null,
   "id": "2ec48668",
   "metadata": {},
   "outputs": [],
   "source": [
    "# Show peaks dataframe\n",
    "peaks_df"
   ]
  },
  {
   "cell_type": "code",
   "execution_count": null,
   "id": "fb99fa4f",
   "metadata": {},
   "outputs": [],
   "source": [
    "# Calculate mean of number of peaks from all columns\n",
    "# mean_peaks = peaks_df.mean(axis=1)\n",
    "# mean_peaks"
   ]
  },
  {
   "cell_type": "code",
   "execution_count": null,
   "id": "45850203",
   "metadata": {},
   "outputs": [],
   "source": [
    "# Drop all columns in peaks dataframe where there are no peaks\n",
    "peaks_df.dropna(axis=1, how='all')"
   ]
  },
  {
   "cell_type": "code",
   "execution_count": null,
   "id": "408be061",
   "metadata": {},
   "outputs": [],
   "source": [
    "# Check number of peaks for particular column\n",
    "peaks_df[\"Mean(ID10827)\"]"
   ]
  },
  {
   "cell_type": "code",
   "execution_count": null,
   "id": "3a003d70",
   "metadata": {},
   "outputs": [],
   "source": [
    "# Use to check datapoints where peak occurs for a specific column\n",
    "# dataframe[[\"peaksMean(ID10902)\"]][dataframe[\"peaksMean(ID10902)\"]==1]"
   ]
  },
  {
   "cell_type": "code",
   "execution_count": null,
   "id": "44817392",
   "metadata": {},
   "outputs": [],
   "source": [
    "# check that original dataframe is unaltered\n",
    "# dataframe"
   ]
  },
  {
   "cell_type": "code",
   "execution_count": null,
   "id": "34cff74a",
   "metadata": {},
   "outputs": [],
   "source": [
    "# import dependencies for plotting graphs, with shortcut\n",
    "import seaborn as sns\n",
    "import matplotlib.pyplot as plt"
   ]
  },
  {
   "cell_type": "code",
   "execution_count": null,
   "id": "74c2d2ee",
   "metadata": {},
   "outputs": [],
   "source": [
    "# Plot for a PARTICULAR column, modify accordingly in red highlighted string below i.e., replace \"Mean(IDXXXXX)\"\n",
    "sns.lineplot(data = dataframe, x = dataframe.index, y = 'Mean(ID10827)')\n",
    "sns.lineplot(data = dataframe, x = dataframe.index, y = 'peaksMean(ID10827)')\n",
    "plt.show()"
   ]
  }
 ],
 "metadata": {
  "kernelspec": {
   "display_name": "Python 3 (ipykernel)",
   "language": "python",
   "name": "python3"
  },
  "language_info": {
   "codemirror_mode": {
    "name": "ipython",
    "version": 3
   },
   "file_extension": ".py",
   "mimetype": "text/x-python",
   "name": "python",
   "nbconvert_exporter": "python",
   "pygments_lexer": "ipython3",
   "version": "3.11.2"
  }
 },
 "nbformat": 4,
 "nbformat_minor": 5
}
